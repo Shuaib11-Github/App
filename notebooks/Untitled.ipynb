{
 "cells": [
  {
   "cell_type": "code",
   "execution_count": 1,
   "id": "9d80f3d1-3480-41d6-a8ce-6f128c6e1160",
   "metadata": {},
   "outputs": [],
   "source": [
    "import os\n",
    "import pandas as pd"
   ]
  },
  {
   "cell_type": "code",
   "execution_count": 2,
   "id": "ffb13142-f4ef-42b9-a766-cbb9959d43df",
   "metadata": {},
   "outputs": [],
   "source": [
    "df = pd.read_csv(\"../data_given/wine-quality.csv\")"
   ]
  },
  {
   "cell_type": "code",
   "execution_count": 3,
   "id": "61abeb33-1077-4d5f-a4f3-75934301c1cd",
   "metadata": {},
   "outputs": [
    {
     "data": {
      "text/plain": [
       "Index(['fixed acidity', 'volatile acidity', 'citric acid', 'residual sugar',\n",
       "       'chlorides', 'free sulfur dioxide', 'total sulfur dioxide', 'density',\n",
       "       'pH', 'sulphates', 'alcohol', 'TARGET'],\n",
       "      dtype='object')"
      ]
     },
     "execution_count": 3,
     "metadata": {},
     "output_type": "execute_result"
    }
   ],
   "source": [
    "df.columns"
   ]
  },
  {
   "cell_type": "code",
   "execution_count": 5,
   "id": "8ac55849-c998-4fd9-9a12-83cc76b8233b",
   "metadata": {},
   "outputs": [
    {
     "data": {
      "text/html": [
       "<div>\n",
       "<style scoped>\n",
       "    .dataframe tbody tr th:only-of-type {\n",
       "        vertical-align: middle;\n",
       "    }\n",
       "\n",
       "    .dataframe tbody tr th {\n",
       "        vertical-align: top;\n",
       "    }\n",
       "\n",
       "    .dataframe thead th {\n",
       "        text-align: right;\n",
       "    }\n",
       "</style>\n",
       "<table border=\"1\" class=\"dataframe\">\n",
       "  <thead>\n",
       "    <tr style=\"text-align: right;\">\n",
       "      <th></th>\n",
       "      <th>count</th>\n",
       "      <th>mean</th>\n",
       "      <th>std</th>\n",
       "      <th>min</th>\n",
       "      <th>25%</th>\n",
       "      <th>50%</th>\n",
       "      <th>75%</th>\n",
       "      <th>max</th>\n",
       "    </tr>\n",
       "  </thead>\n",
       "  <tbody>\n",
       "    <tr>\n",
       "      <th>fixed acidity</th>\n",
       "      <td>4898.0</td>\n",
       "      <td>6.854788</td>\n",
       "      <td>0.843868</td>\n",
       "      <td>3.80000</td>\n",
       "      <td>6.300000</td>\n",
       "      <td>6.80000</td>\n",
       "      <td>7.3000</td>\n",
       "      <td>14.20000</td>\n",
       "    </tr>\n",
       "    <tr>\n",
       "      <th>volatile acidity</th>\n",
       "      <td>4898.0</td>\n",
       "      <td>0.278241</td>\n",
       "      <td>0.100795</td>\n",
       "      <td>0.08000</td>\n",
       "      <td>0.210000</td>\n",
       "      <td>0.26000</td>\n",
       "      <td>0.3200</td>\n",
       "      <td>1.10000</td>\n",
       "    </tr>\n",
       "    <tr>\n",
       "      <th>citric acid</th>\n",
       "      <td>4898.0</td>\n",
       "      <td>0.334192</td>\n",
       "      <td>0.121020</td>\n",
       "      <td>0.00000</td>\n",
       "      <td>0.270000</td>\n",
       "      <td>0.32000</td>\n",
       "      <td>0.3900</td>\n",
       "      <td>1.66000</td>\n",
       "    </tr>\n",
       "    <tr>\n",
       "      <th>residual sugar</th>\n",
       "      <td>4898.0</td>\n",
       "      <td>6.391415</td>\n",
       "      <td>5.072058</td>\n",
       "      <td>0.60000</td>\n",
       "      <td>1.700000</td>\n",
       "      <td>5.20000</td>\n",
       "      <td>9.9000</td>\n",
       "      <td>65.80000</td>\n",
       "    </tr>\n",
       "    <tr>\n",
       "      <th>chlorides</th>\n",
       "      <td>4898.0</td>\n",
       "      <td>0.045772</td>\n",
       "      <td>0.021848</td>\n",
       "      <td>0.00900</td>\n",
       "      <td>0.036000</td>\n",
       "      <td>0.04300</td>\n",
       "      <td>0.0500</td>\n",
       "      <td>0.34600</td>\n",
       "    </tr>\n",
       "    <tr>\n",
       "      <th>free sulfur dioxide</th>\n",
       "      <td>4898.0</td>\n",
       "      <td>35.308085</td>\n",
       "      <td>17.007137</td>\n",
       "      <td>2.00000</td>\n",
       "      <td>23.000000</td>\n",
       "      <td>34.00000</td>\n",
       "      <td>46.0000</td>\n",
       "      <td>289.00000</td>\n",
       "    </tr>\n",
       "    <tr>\n",
       "      <th>total sulfur dioxide</th>\n",
       "      <td>4898.0</td>\n",
       "      <td>138.360657</td>\n",
       "      <td>42.498065</td>\n",
       "      <td>9.00000</td>\n",
       "      <td>108.000000</td>\n",
       "      <td>134.00000</td>\n",
       "      <td>167.0000</td>\n",
       "      <td>440.00000</td>\n",
       "    </tr>\n",
       "    <tr>\n",
       "      <th>density</th>\n",
       "      <td>4898.0</td>\n",
       "      <td>0.994027</td>\n",
       "      <td>0.002991</td>\n",
       "      <td>0.98711</td>\n",
       "      <td>0.991723</td>\n",
       "      <td>0.99374</td>\n",
       "      <td>0.9961</td>\n",
       "      <td>1.03898</td>\n",
       "    </tr>\n",
       "    <tr>\n",
       "      <th>pH</th>\n",
       "      <td>4898.0</td>\n",
       "      <td>3.188267</td>\n",
       "      <td>0.151001</td>\n",
       "      <td>2.72000</td>\n",
       "      <td>3.090000</td>\n",
       "      <td>3.18000</td>\n",
       "      <td>3.2800</td>\n",
       "      <td>3.82000</td>\n",
       "    </tr>\n",
       "    <tr>\n",
       "      <th>sulphates</th>\n",
       "      <td>4898.0</td>\n",
       "      <td>0.489847</td>\n",
       "      <td>0.114126</td>\n",
       "      <td>0.22000</td>\n",
       "      <td>0.410000</td>\n",
       "      <td>0.47000</td>\n",
       "      <td>0.5500</td>\n",
       "      <td>1.08000</td>\n",
       "    </tr>\n",
       "    <tr>\n",
       "      <th>alcohol</th>\n",
       "      <td>4898.0</td>\n",
       "      <td>10.514267</td>\n",
       "      <td>1.230621</td>\n",
       "      <td>8.00000</td>\n",
       "      <td>9.500000</td>\n",
       "      <td>10.40000</td>\n",
       "      <td>11.4000</td>\n",
       "      <td>14.20000</td>\n",
       "    </tr>\n",
       "    <tr>\n",
       "      <th>TARGET</th>\n",
       "      <td>4898.0</td>\n",
       "      <td>5.877909</td>\n",
       "      <td>0.885639</td>\n",
       "      <td>3.00000</td>\n",
       "      <td>5.000000</td>\n",
       "      <td>6.00000</td>\n",
       "      <td>6.0000</td>\n",
       "      <td>9.00000</td>\n",
       "    </tr>\n",
       "  </tbody>\n",
       "</table>\n",
       "</div>"
      ],
      "text/plain": [
       "                       count        mean        std      min         25%  \\\n",
       "fixed acidity         4898.0    6.854788   0.843868  3.80000    6.300000   \n",
       "volatile acidity      4898.0    0.278241   0.100795  0.08000    0.210000   \n",
       "citric acid           4898.0    0.334192   0.121020  0.00000    0.270000   \n",
       "residual sugar        4898.0    6.391415   5.072058  0.60000    1.700000   \n",
       "chlorides             4898.0    0.045772   0.021848  0.00900    0.036000   \n",
       "free sulfur dioxide   4898.0   35.308085  17.007137  2.00000   23.000000   \n",
       "total sulfur dioxide  4898.0  138.360657  42.498065  9.00000  108.000000   \n",
       "density               4898.0    0.994027   0.002991  0.98711    0.991723   \n",
       "pH                    4898.0    3.188267   0.151001  2.72000    3.090000   \n",
       "sulphates             4898.0    0.489847   0.114126  0.22000    0.410000   \n",
       "alcohol               4898.0   10.514267   1.230621  8.00000    9.500000   \n",
       "TARGET                4898.0    5.877909   0.885639  3.00000    5.000000   \n",
       "\n",
       "                            50%       75%        max  \n",
       "fixed acidity           6.80000    7.3000   14.20000  \n",
       "volatile acidity        0.26000    0.3200    1.10000  \n",
       "citric acid             0.32000    0.3900    1.66000  \n",
       "residual sugar          5.20000    9.9000   65.80000  \n",
       "chlorides               0.04300    0.0500    0.34600  \n",
       "free sulfur dioxide    34.00000   46.0000  289.00000  \n",
       "total sulfur dioxide  134.00000  167.0000  440.00000  \n",
       "density                 0.99374    0.9961    1.03898  \n",
       "pH                      3.18000    3.2800    3.82000  \n",
       "sulphates               0.47000    0.5500    1.08000  \n",
       "alcohol                10.40000   11.4000   14.20000  \n",
       "TARGET                  6.00000    6.0000    9.00000  "
      ]
     },
     "execution_count": 5,
     "metadata": {},
     "output_type": "execute_result"
    }
   ],
   "source": [
    "df.describe().T"
   ]
  },
  {
   "cell_type": "code",
   "execution_count": 13,
   "id": "5fd97598-bbd9-4860-b180-3efae99248be",
   "metadata": {},
   "outputs": [],
   "source": [
    "overview = df.describe()"
   ]
  },
  {
   "cell_type": "code",
   "execution_count": 15,
   "id": "3cb439b7-b5b4-4d33-bb7a-e0b0753f7502",
   "metadata": {},
   "outputs": [],
   "source": [
    "overview.loc[['min', 'max']].to_json(\"schema_in.json\")"
   ]
  },
  {
   "cell_type": "code",
   "execution_count": 24,
   "id": "54bd3db7-fabf-489e-aedd-e3cf642cd02a",
   "metadata": {},
   "outputs": [],
   "source": [
    "class NotInRange(Exception):\n",
    "    def __init__(self, message='value not in range'):\n",
    "        #self.input = input_\n",
    "        self.message = message\n",
    "        super().__init__(self.message)"
   ]
  },
  {
   "cell_type": "code",
   "execution_count": 25,
   "id": "03da3e6b-48b3-4507-a9a5-6e1cdfc80cee",
   "metadata": {},
   "outputs": [
    {
     "ename": "NotInRange",
     "evalue": "value not in range",
     "output_type": "error",
     "traceback": [
      "\u001b[1;31m---------------------------------------------------------------------------\u001b[0m",
      "\u001b[1;31mNotInRange\u001b[0m                                Traceback (most recent call last)",
      "\u001b[1;32mC:\\Users\\Public\\Documents\\Wondershare\\CreatorTemp/ipykernel_9492/749905967.py\u001b[0m in \u001b[0;36m<module>\u001b[1;34m\u001b[0m\n\u001b[1;32m----> 1\u001b[1;33m \u001b[1;32mraise\u001b[0m \u001b[0mNotInRange\u001b[0m\u001b[1;33m\u001b[0m\u001b[1;33m\u001b[0m\u001b[0m\n\u001b[0m",
      "\u001b[1;31mNotInRange\u001b[0m: value not in range"
     ]
    }
   ],
   "source": [
    "raise NotInRange"
   ]
  },
  {
   "cell_type": "code",
   "execution_count": null,
   "id": "36e3a5bb-3a54-48a0-a077-87a6c7f54e07",
   "metadata": {},
   "outputs": [],
   "source": []
  }
 ],
 "metadata": {
  "kernelspec": {
   "display_name": "Python 3 (ipykernel)",
   "language": "python",
   "name": "python3"
  },
  "language_info": {
   "codemirror_mode": {
    "name": "ipython",
    "version": 3
   },
   "file_extension": ".py",
   "mimetype": "text/x-python",
   "name": "python",
   "nbconvert_exporter": "python",
   "pygments_lexer": "ipython3",
   "version": "3.7.11"
  }
 },
 "nbformat": 4,
 "nbformat_minor": 5
}
